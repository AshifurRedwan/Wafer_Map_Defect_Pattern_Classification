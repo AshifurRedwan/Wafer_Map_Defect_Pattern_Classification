{
 "cells": [
  {
   "cell_type": "markdown",
   "metadata": {
    "id": "ltlqDxySMLzk"
   },
   "source": [
    "# CNN Model\n",
    "\n",
    "Our goal: Improve the yield of wafer manufacturing processes in semiconductor fabrication by automatically identifying different types of wafer map failure patterns instead of manual work.\n",
    "\n",
    "Data: WM-811K wafer map"
   ]
  },
  {
   "cell_type": "markdown",
   "metadata": {
    "id": "qpXwRPMQjzsZ"
   },
   "source": [
    "Installation and Setup"
   ]
  },
  {
   "cell_type": "code",
   "execution_count": 1,
   "metadata": {
    "colab": {
     "base_uri": "https://localhost:8080/"
    },
    "executionInfo": {
     "elapsed": 6451,
     "status": "ok",
     "timestamp": 1710627869429,
     "user": {
      "displayName": "Ashifur Redwan",
      "userId": "11513592512164483482"
     },
     "user_tz": -360
    },
    "id": "_JV06N2-L5jy",
    "outputId": "899927f4-199a-424e-b2bf-17aa290907ca"
   },
   "outputs": [
    {
     "name": "stdout",
     "output_type": "stream",
     "text": [
      "['LSWMD.pkl']\n"
     ]
    }
   ],
   "source": [
    "# loading libraries\n",
    "import numpy as np # linear algebra\n",
    "import pandas as pd # data processing, CSV file I/O (e.g. pd.read_csv)\n",
    "import matplotlib.pyplot as plt\n",
    "%matplotlib inline\n",
    "\n",
    "import tensorflow as tf\n",
    "from tensorflow import keras\n",
    "from keras import layers, Input, models\n",
    "from keras.utils import to_categorical\n",
    "from keras.wrappers.scikit_learn import KerasClassifier\n",
    "from sklearn.model_selection import KFold\n",
    "from sklearn.model_selection import cross_val_score\n",
    "\n",
    "from sklearn.model_selection import train_test_split\n",
    "\n",
    "import os\n",
    "from os.path import join\n",
    "path = \"C:/Users/ASUS/Thesis/Dataset\"\n",
    "print(os.listdir(path))\n",
    "import warnings\n",
    "warnings.filterwarnings(\"ignore\")"
   ]
  },
  {
   "cell_type": "markdown",
   "metadata": {
    "id": "aN_2NYbS52pW"
   },
   "source": [
    "Data Summary"
   ]
  },
  {
   "cell_type": "code",
   "execution_count": 2,
   "metadata": {
    "colab": {
     "base_uri": "https://localhost:8080/"
    },
    "executionInfo": {
     "elapsed": 97051,
     "status": "ok",
     "timestamp": 1710627969740,
     "user": {
      "displayName": "Ashifur Redwan",
      "userId": "11513592512164483482"
     },
     "user_tz": -360
    },
    "id": "5m3lPxvyRdD8",
    "outputId": "6262cf8f-92ce-4a84-91b4-2ab9347c2237"
   },
   "outputs": [
    {
     "name": "stdout",
     "output_type": "stream",
     "text": [
      "<class 'pandas.core.frame.DataFrame'>\n",
      "RangeIndex: 811457 entries, 0 to 811456\n",
      "Data columns (total 6 columns):\n",
      " #   Column          Non-Null Count   Dtype  \n",
      "---  ------          --------------   -----  \n",
      " 0   waferMap        811457 non-null  object \n",
      " 1   dieSize         811457 non-null  float64\n",
      " 2   lotName         811457 non-null  object \n",
      " 3   waferIndex      811457 non-null  float64\n",
      " 4   trianTestLabel  811457 non-null  object \n",
      " 5   failureType     811457 non-null  object \n",
      "dtypes: float64(2), object(4)\n",
      "memory usage: 37.1+ MB\n"
     ]
    }
   ],
   "source": [
    "df=pd.read_pickle(\"C:/Users/ASUS/Thesis/Dataset/LSWMD.pkl\")\n",
    "df.info()"
   ]
  },
  {
   "cell_type": "markdown",
   "metadata": {
    "id": "t6pe1bKFlY9Z"
   },
   "source": [
    "Data set composition\n",
    "\n",
    "811,457 sets\n",
    "\n",
    "1. wafer map\n",
    "2. wafer die size\n",
    "3. Lot name\n",
    "4. wafer index\n"
   ]
  },
  {
   "cell_type": "code",
   "execution_count": 3,
   "metadata": {
    "colab": {
     "base_uri": "https://localhost:8080/",
     "height": 206
    },
    "executionInfo": {
     "elapsed": 9,
     "status": "ok",
     "timestamp": 1710627969741,
     "user": {
      "displayName": "Ashifur Redwan",
      "userId": "11513592512164483482"
     },
     "user_tz": -360
    },
    "id": "GeKNXW5NRjD1",
    "outputId": "d72413dd-a9ba-435a-b148-fdd886888898"
   },
   "outputs": [
    {
     "data": {
      "text/html": [
       "<div>\n",
       "<style scoped>\n",
       "    .dataframe tbody tr th:only-of-type {\n",
       "        vertical-align: middle;\n",
       "    }\n",
       "\n",
       "    .dataframe tbody tr th {\n",
       "        vertical-align: top;\n",
       "    }\n",
       "\n",
       "    .dataframe thead th {\n",
       "        text-align: right;\n",
       "    }\n",
       "</style>\n",
       "<table border=\"1\" class=\"dataframe\">\n",
       "  <thead>\n",
       "    <tr style=\"text-align: right;\">\n",
       "      <th></th>\n",
       "      <th>waferMap</th>\n",
       "      <th>dieSize</th>\n",
       "      <th>lotName</th>\n",
       "      <th>waferIndex</th>\n",
       "      <th>trianTestLabel</th>\n",
       "      <th>failureType</th>\n",
       "    </tr>\n",
       "  </thead>\n",
       "  <tbody>\n",
       "    <tr>\n",
       "      <th>0</th>\n",
       "      <td>[[0, 0, 0, 0, 0, 0, 0, 0, 0, 0, 0, 0, 0, 0, 0,...</td>\n",
       "      <td>1683.0</td>\n",
       "      <td>lot1</td>\n",
       "      <td>1.0</td>\n",
       "      <td>[[Training]]</td>\n",
       "      <td>[[none]]</td>\n",
       "    </tr>\n",
       "    <tr>\n",
       "      <th>1</th>\n",
       "      <td>[[0, 0, 0, 0, 0, 0, 0, 0, 0, 0, 0, 0, 0, 0, 0,...</td>\n",
       "      <td>1683.0</td>\n",
       "      <td>lot1</td>\n",
       "      <td>2.0</td>\n",
       "      <td>[[Training]]</td>\n",
       "      <td>[[none]]</td>\n",
       "    </tr>\n",
       "    <tr>\n",
       "      <th>2</th>\n",
       "      <td>[[0, 0, 0, 0, 0, 0, 0, 0, 0, 0, 0, 0, 0, 0, 0,...</td>\n",
       "      <td>1683.0</td>\n",
       "      <td>lot1</td>\n",
       "      <td>3.0</td>\n",
       "      <td>[[Training]]</td>\n",
       "      <td>[[none]]</td>\n",
       "    </tr>\n",
       "    <tr>\n",
       "      <th>3</th>\n",
       "      <td>[[0, 0, 0, 0, 0, 0, 0, 0, 0, 0, 0, 0, 0, 0, 0,...</td>\n",
       "      <td>1683.0</td>\n",
       "      <td>lot1</td>\n",
       "      <td>4.0</td>\n",
       "      <td>[[Training]]</td>\n",
       "      <td>[[none]]</td>\n",
       "    </tr>\n",
       "    <tr>\n",
       "      <th>4</th>\n",
       "      <td>[[0, 0, 0, 0, 0, 0, 0, 0, 0, 0, 0, 0, 0, 0, 0,...</td>\n",
       "      <td>1683.0</td>\n",
       "      <td>lot1</td>\n",
       "      <td>5.0</td>\n",
       "      <td>[[Training]]</td>\n",
       "      <td>[[none]]</td>\n",
       "    </tr>\n",
       "  </tbody>\n",
       "</table>\n",
       "</div>"
      ],
      "text/plain": [
       "                                            waferMap  dieSize lotName  \\\n",
       "0  [[0, 0, 0, 0, 0, 0, 0, 0, 0, 0, 0, 0, 0, 0, 0,...   1683.0    lot1   \n",
       "1  [[0, 0, 0, 0, 0, 0, 0, 0, 0, 0, 0, 0, 0, 0, 0,...   1683.0    lot1   \n",
       "2  [[0, 0, 0, 0, 0, 0, 0, 0, 0, 0, 0, 0, 0, 0, 0,...   1683.0    lot1   \n",
       "3  [[0, 0, 0, 0, 0, 0, 0, 0, 0, 0, 0, 0, 0, 0, 0,...   1683.0    lot1   \n",
       "4  [[0, 0, 0, 0, 0, 0, 0, 0, 0, 0, 0, 0, 0, 0, 0,...   1683.0    lot1   \n",
       "\n",
       "   waferIndex trianTestLabel failureType  \n",
       "0         1.0   [[Training]]    [[none]]  \n",
       "1         2.0   [[Training]]    [[none]]  \n",
       "2         3.0   [[Training]]    [[none]]  \n",
       "3         4.0   [[Training]]    [[none]]  \n",
       "4         5.0   [[Training]]    [[none]]  "
      ]
     },
     "execution_count": 3,
     "metadata": {},
     "output_type": "execute_result"
    }
   ],
   "source": [
    "df.head()"
   ]
  },
  {
   "cell_type": "code",
   "execution_count": 4,
   "metadata": {
    "colab": {
     "base_uri": "https://localhost:8080/",
     "height": 206
    },
    "executionInfo": {
     "elapsed": 6,
     "status": "ok",
     "timestamp": 1710627969741,
     "user": {
      "displayName": "Ashifur Redwan",
      "userId": "11513592512164483482"
     },
     "user_tz": -360
    },
    "id": "cocUusgDRlMM",
    "outputId": "5d60831b-fb9c-4393-dfc8-9b17d20e41df"
   },
   "outputs": [
    {
     "data": {
      "text/html": [
       "<div>\n",
       "<style scoped>\n",
       "    .dataframe tbody tr th:only-of-type {\n",
       "        vertical-align: middle;\n",
       "    }\n",
       "\n",
       "    .dataframe tbody tr th {\n",
       "        vertical-align: top;\n",
       "    }\n",
       "\n",
       "    .dataframe thead th {\n",
       "        text-align: right;\n",
       "    }\n",
       "</style>\n",
       "<table border=\"1\" class=\"dataframe\">\n",
       "  <thead>\n",
       "    <tr style=\"text-align: right;\">\n",
       "      <th></th>\n",
       "      <th>waferMap</th>\n",
       "      <th>dieSize</th>\n",
       "      <th>lotName</th>\n",
       "      <th>waferIndex</th>\n",
       "      <th>trianTestLabel</th>\n",
       "      <th>failureType</th>\n",
       "    </tr>\n",
       "  </thead>\n",
       "  <tbody>\n",
       "    <tr>\n",
       "      <th>811452</th>\n",
       "      <td>[[0, 0, 0, 0, 0, 0, 0, 0, 0, 0, 0, 1, 2, 1, 1,...</td>\n",
       "      <td>600.0</td>\n",
       "      <td>lot47542</td>\n",
       "      <td>23.0</td>\n",
       "      <td>[[Test]]</td>\n",
       "      <td>[[Edge-Ring]]</td>\n",
       "    </tr>\n",
       "    <tr>\n",
       "      <th>811453</th>\n",
       "      <td>[[0, 0, 0, 0, 0, 0, 0, 0, 0, 0, 0, 2, 2, 1, 1,...</td>\n",
       "      <td>600.0</td>\n",
       "      <td>lot47542</td>\n",
       "      <td>24.0</td>\n",
       "      <td>[[Test]]</td>\n",
       "      <td>[[Edge-Loc]]</td>\n",
       "    </tr>\n",
       "    <tr>\n",
       "      <th>811454</th>\n",
       "      <td>[[0, 0, 0, 0, 0, 0, 0, 0, 0, 0, 0, 1, 2, 1, 1,...</td>\n",
       "      <td>600.0</td>\n",
       "      <td>lot47542</td>\n",
       "      <td>25.0</td>\n",
       "      <td>[[Test]]</td>\n",
       "      <td>[[Edge-Ring]]</td>\n",
       "    </tr>\n",
       "    <tr>\n",
       "      <th>811455</th>\n",
       "      <td>[[0, 0, 0, 0, 0, 0, 0, 0, 0, 0, 0, 1, 1, 1, 1,...</td>\n",
       "      <td>600.0</td>\n",
       "      <td>lot47543</td>\n",
       "      <td>1.0</td>\n",
       "      <td>[]</td>\n",
       "      <td>[]</td>\n",
       "    </tr>\n",
       "    <tr>\n",
       "      <th>811456</th>\n",
       "      <td>[[0, 0, 0, 0, 0, 0, 0, 0, 0, 0, 0, 1, 2, 1, 1,...</td>\n",
       "      <td>600.0</td>\n",
       "      <td>lot47543</td>\n",
       "      <td>2.0</td>\n",
       "      <td>[]</td>\n",
       "      <td>[]</td>\n",
       "    </tr>\n",
       "  </tbody>\n",
       "</table>\n",
       "</div>"
      ],
      "text/plain": [
       "                                                 waferMap  dieSize   lotName  \\\n",
       "811452  [[0, 0, 0, 0, 0, 0, 0, 0, 0, 0, 0, 1, 2, 1, 1,...    600.0  lot47542   \n",
       "811453  [[0, 0, 0, 0, 0, 0, 0, 0, 0, 0, 0, 2, 2, 1, 1,...    600.0  lot47542   \n",
       "811454  [[0, 0, 0, 0, 0, 0, 0, 0, 0, 0, 0, 1, 2, 1, 1,...    600.0  lot47542   \n",
       "811455  [[0, 0, 0, 0, 0, 0, 0, 0, 0, 0, 0, 1, 1, 1, 1,...    600.0  lot47543   \n",
       "811456  [[0, 0, 0, 0, 0, 0, 0, 0, 0, 0, 0, 1, 2, 1, 1,...    600.0  lot47543   \n",
       "\n",
       "        waferIndex trianTestLabel    failureType  \n",
       "811452        23.0       [[Test]]  [[Edge-Ring]]  \n",
       "811453        24.0       [[Test]]   [[Edge-Loc]]  \n",
       "811454        25.0       [[Test]]  [[Edge-Ring]]  \n",
       "811455         1.0             []             []  \n",
       "811456         2.0             []             []  "
      ]
     },
     "execution_count": 4,
     "metadata": {},
     "output_type": "execute_result"
    }
   ],
   "source": [
    "df.tail()"
   ]
  },
  {
   "cell_type": "code",
   "execution_count": 5,
   "metadata": {
    "colab": {
     "base_uri": "https://localhost:8080/",
     "height": 472
    },
    "executionInfo": {
     "elapsed": 1578,
     "status": "ok",
     "timestamp": 1710627971314,
     "user": {
      "displayName": "Ashifur Redwan",
      "userId": "11513592512164483482"
     },
     "user_tz": -360
    },
    "id": "t7zi85HDR0t0",
    "outputId": "8407a427-446c-4e6e-92cb-bdae173011c3"
   },
   "outputs": [
    {
     "data": {
      "image/png": "[encoded data removed]",
      "text/plain": [
       "<Figure size 640x480 with 1 Axes>"
      ]
     },
     "metadata": {},
     "output_type": "display_data"
    }
   ],
   "source": [
    "import matplotlib.pyplot as plt\n",
    "%matplotlib inline\n",
    "\n",
    "\n",
    "uni_Index=np.unique(df.waferIndex, return_counts=True)\n",
    "plt.bar(uni_Index[0],uni_Index[1], color='blue', align='center', alpha=0.5)\n",
    "plt.title(\" wafer Index distribution\")\n",
    "plt.xlabel(\"index #\")\n",
    "plt.ylabel(\"frequency\")\n",
    "plt.xlim(0,26)\n",
    "plt.ylim(30000,34000)\n",
    "plt.show()"
   ]
  },
  {
   "cell_type": "code",
   "execution_count": 6,
   "metadata": {
    "scrolled": true
   },
   "outputs": [
    {
     "data": {
      "image/png": "[encoded data removed]",
      "text/plain": [
       "<Figure size 2000x450 with 2 Axes>"
      ]
     },
     "metadata": {},
     "output_type": "display_data"
    }
   ],
   "source": [
    "import matplotlib.pyplot as plt\n",
    "%matplotlib inline\n",
    "\n",
    "tol_wafers = df.shape[0]\n",
    "tol_wafers\n",
    "\n",
    "df['failureNum']=df.failureType\n",
    "df['trainTestNum']=df.trianTestLabel\n",
    "mapping_type={'Center':0,'Donut':1,'Edge-Loc':2,'Edge-Ring':3,'Loc':4,'Random':5,'Scratch':6,'Near-full':7,'none':8}\n",
    "mapping_traintest={'Training':0,'Test':1}\n",
    "df=df.replace({'failureNum':mapping_type, 'trainTestNum':mapping_traintest})\n",
    "\n",
    "df_withlabel = df[(df['failureNum']>=0) & (df['failureNum']<=8)]\n",
    "df_withlabel =df_withlabel.reset_index()\n",
    "df_withpattern = df[(df['failureNum']>=0) & (df['failureNum']<=7)]\n",
    "df_withpattern = df_withpattern.reset_index()\n",
    "df_nonpattern = df[(df['failureNum']==8)]\n",
    "df_withlabel.shape[0], df_withpattern.shape[0], df_nonpattern.shape[0]\n",
    "\n",
    "from matplotlib import gridspec\n",
    "fig = plt.figure(figsize=(20, 4.5)) \n",
    "gs = gridspec.GridSpec(1, 2, width_ratios=[1, 2.5]) \n",
    "ax1 = plt.subplot(gs[0])\n",
    "ax2 = plt.subplot(gs[1])\n",
    "\n",
    "no_wafers=[tol_wafers-df_withlabel.shape[0], df_withpattern.shape[0], df_nonpattern.shape[0]]\n",
    "\n",
    "colors = ['blue', 'green', 'red']\n",
    "explode = (0.1, 0, 0)  # explode 1st slice\n",
    "labels = ['no-label','label and pattern','label and non-pattern']\n",
    "ax1.pie(no_wafers, explode=explode, labels=labels, colors=colors, autopct='%1.1f%%', shadow=True, startangle=140)\n",
    "\n",
    "uni_pattern=np.unique(df_withpattern.failureNum, return_counts=True)\n",
    "labels2 = ['','Center','Donut','Edge-Loc','Edge-Ring','Loc','Random','Scratch','Near-full']\n",
    "ax2.bar(uni_pattern[0],uni_pattern[1]/df_withpattern.shape[0], color='blue', align='center', alpha=0.5)\n",
    "ax2.set_title(\"failure type frequency\")\n",
    "ax2.set_ylabel(\"% of pattern wafers\")\n",
    "ax2.set_xticklabels(labels2)\n",
    "\n",
    "# Save the confusion matrix image\n",
    "plt.savefig('Failure.png')\n",
    "plt.show()"
   ]
  },
  {
   "cell_type": "code",
   "execution_count": 7,
   "metadata": {
    "executionInfo": {
     "elapsed": 8,
     "status": "ok",
     "timestamp": 1710627971315,
     "user": {
      "displayName": "Ashifur Redwan",
      "userId": "11513592512164483482"
     },
     "user_tz": -360
    },
    "id": "Y2zS39YaSeeL"
   },
   "outputs": [],
   "source": [
    "df = df.drop(['waferIndex'], axis = 1)"
   ]
  },
  {
   "cell_type": "markdown",
   "metadata": {
    "id": "RE4CN7Belhh2"
   },
   "source": [
    "We don't get much information from the wafer map column, but we can see that each instance has a different die size.\n",
    "\n",
    "For wafer map dim inspection\n",
    "\n",
    "Create 'waferMap Dim\" variable."
   ]
  },
  {
   "cell_type": "code",
   "execution_count": 8,
   "metadata": {
    "colab": {
     "base_uri": "https://localhost:8080/",
     "height": 206
    },
    "executionInfo": {
     "elapsed": 1538,
     "status": "ok",
     "timestamp": 1710627972846,
     "user": {
      "displayName": "Ashifur Redwan",
      "userId": "11513592512164483482"
     },
     "user_tz": -360
    },
    "id": "pH6_TPddSlX7",
    "outputId": "125c0d4c-4c63-497d-efb9-4c2eec854c8c"
   },
   "outputs": [
    {
     "data": {
      "text/html": [
       "<div>\n",
       "<style scoped>\n",
       "    .dataframe tbody tr th:only-of-type {\n",
       "        vertical-align: middle;\n",
       "    }\n",
       "\n",
       "    .dataframe tbody tr th {\n",
       "        vertical-align: top;\n",
       "    }\n",
       "\n",
       "    .dataframe thead th {\n",
       "        text-align: right;\n",
       "    }\n",
       "</style>\n",
       "<table border=\"1\" class=\"dataframe\">\n",
       "  <thead>\n",
       "    <tr style=\"text-align: right;\">\n",
       "      <th></th>\n",
       "      <th>waferMap</th>\n",
       "      <th>dieSize</th>\n",
       "      <th>lotName</th>\n",
       "      <th>trianTestLabel</th>\n",
       "      <th>failureType</th>\n",
       "      <th>failureNum</th>\n",
       "      <th>trainTestNum</th>\n",
       "      <th>waferMapDim</th>\n",
       "    </tr>\n",
       "  </thead>\n",
       "  <tbody>\n",
       "    <tr>\n",
       "      <th>702936</th>\n",
       "      <td>[[0, 0, 0, 0, 0, 0, 0, 0, 0, 0, 0, 0, 2, 1, 2,...</td>\n",
       "      <td>516.0</td>\n",
       "      <td>lot43142</td>\n",
       "      <td>[]</td>\n",
       "      <td>[]</td>\n",
       "      <td>[]</td>\n",
       "      <td>[]</td>\n",
       "      <td>(25, 27)</td>\n",
       "    </tr>\n",
       "    <tr>\n",
       "      <th>759277</th>\n",
       "      <td>[[0, 0, 0, 0, 0, 0, 0, 0, 0, 0, 0, 0, 0, 0, 2,...</td>\n",
       "      <td>1109.0</td>\n",
       "      <td>lot45419</td>\n",
       "      <td>[[Test]]</td>\n",
       "      <td>[[none]]</td>\n",
       "      <td>8</td>\n",
       "      <td>1</td>\n",
       "      <td>(39, 37)</td>\n",
       "    </tr>\n",
       "    <tr>\n",
       "      <th>261463</th>\n",
       "      <td>[[0, 0, 0, 0, 0, 0, 0, 0, 0, 0, 0, 0, 0, 0, 0,...</td>\n",
       "      <td>2857.0</td>\n",
       "      <td>lot16174</td>\n",
       "      <td>[]</td>\n",
       "      <td>[]</td>\n",
       "      <td>[]</td>\n",
       "      <td>[]</td>\n",
       "      <td>(61, 60)</td>\n",
       "    </tr>\n",
       "    <tr>\n",
       "      <th>594826</th>\n",
       "      <td>[[0, 0, 0, 0, 0, 0, 0, 0, 0, 0, 0, 0, 0, 0, 0,...</td>\n",
       "      <td>1513.0</td>\n",
       "      <td>lot37240</td>\n",
       "      <td>[]</td>\n",
       "      <td>[]</td>\n",
       "      <td>[]</td>\n",
       "      <td>[]</td>\n",
       "      <td>(49, 39)</td>\n",
       "    </tr>\n",
       "    <tr>\n",
       "      <th>722580</th>\n",
       "      <td>[[0, 0, 0, 0, 0, 0, 0, 0, 0, 0, 1, 1, 2, 1, 1,...</td>\n",
       "      <td>518.0</td>\n",
       "      <td>lot43933</td>\n",
       "      <td>[[Test]]</td>\n",
       "      <td>[[none]]</td>\n",
       "      <td>8</td>\n",
       "      <td>1</td>\n",
       "      <td>(25, 26)</td>\n",
       "    </tr>\n",
       "  </tbody>\n",
       "</table>\n",
       "</div>"
      ],
      "text/plain": [
       "                                                 waferMap  dieSize   lotName  \\\n",
       "702936  [[0, 0, 0, 0, 0, 0, 0, 0, 0, 0, 0, 0, 2, 1, 2,...    516.0  lot43142   \n",
       "759277  [[0, 0, 0, 0, 0, 0, 0, 0, 0, 0, 0, 0, 0, 0, 2,...   1109.0  lot45419   \n",
       "261463  [[0, 0, 0, 0, 0, 0, 0, 0, 0, 0, 0, 0, 0, 0, 0,...   2857.0  lot16174   \n",
       "594826  [[0, 0, 0, 0, 0, 0, 0, 0, 0, 0, 0, 0, 0, 0, 0,...   1513.0  lot37240   \n",
       "722580  [[0, 0, 0, 0, 0, 0, 0, 0, 0, 0, 1, 1, 2, 1, 1,...    518.0  lot43933   \n",
       "\n",
       "       trianTestLabel failureType failureNum trainTestNum waferMapDim  \n",
       "702936             []          []         []           []    (25, 27)  \n",
       "759277       [[Test]]    [[none]]          8            1    (39, 37)  \n",
       "261463             []          []         []           []    (61, 60)  \n",
       "594826             []          []         []           []    (49, 39)  \n",
       "722580       [[Test]]    [[none]]          8            1    (25, 26)  "
      ]
     },
     "execution_count": 8,
     "metadata": {},
     "output_type": "execute_result"
    }
   ],
   "source": [
    "def find_dim(x):\n",
    "    dim0=np.size(x,axis=0)\n",
    "    dim1=np.size(x,axis=1)\n",
    "    return dim0,dim1\n",
    "df['waferMapDim']=df.waferMap.apply(find_dim)\n",
    "df.sample(5)"
   ]
  },
  {
   "cell_type": "markdown",
   "metadata": {
    "id": "yVWec8ss6GHf"
   },
   "source": [
    "Wafer resolution (26, 26)\n",
    "Arrange wafers and arrays with Footly Case labels;\n",
    "Some wafer labels are null and omitted."
   ]
  },
  {
   "cell_type": "code",
   "execution_count": 9,
   "metadata": {
    "executionInfo": {
     "elapsed": 222256,
     "status": "ok",
     "timestamp": 1710628195099,
     "user": {
      "displayName": "Ashifur Redwan",
      "userId": "11513592512164483482"
     },
     "user_tz": -360
    },
    "id": "wkTaMMwFS9s1"
   },
   "outputs": [],
   "source": [
    "sub_df = df.loc[df['waferMapDim'] == (26, 26)]\n",
    "sub_wafer = sub_df['waferMap'].values\n",
    "\n",
    "sw = np.ones((1, 26, 26))\n",
    "label = list()\n",
    "\n",
    "for i in range(len(sub_df)):\n",
    "    # skip null label\n",
    "    if len(sub_df.iloc[i,:]['failureType']) == 0:\n",
    "        continue\n",
    "    sw = np.concatenate((sw, sub_df.iloc[i,:]['waferMap'].reshape(1, 26, 26)))\n",
    "    label.append(sub_df.iloc[i,:]['failureType'][0][0])"
   ]
  },
  {
   "cell_type": "code",
   "execution_count": 10,
   "metadata": {
    "executionInfo": {
     "elapsed": 12,
     "status": "ok",
     "timestamp": 1710628195100,
     "user": {
      "displayName": "Ashifur Redwan",
      "userId": "11513592512164483482"
     },
     "user_tz": -360
    },
    "id": "hamQI518TA2A"
   },
   "outputs": [],
   "source": [
    "x = sw[1:]\n",
    "y = np.array(label).reshape((-1,1))"
   ]
  },
  {
   "cell_type": "code",
   "execution_count": 11,
   "metadata": {
    "colab": {
     "base_uri": "https://localhost:8080/"
    },
    "executionInfo": {
     "elapsed": 11,
     "status": "ok",
     "timestamp": 1710628195100,
     "user": {
      "displayName": "Ashifur Redwan",
      "userId": "11513592512164483482"
     },
     "user_tz": -360
    },
    "id": "fLa3MD4zTDFM",
    "outputId": "d06e753a-c481-4e1f-a5a8-17cca70edf48"
   },
   "outputs": [
    {
     "name": "stdout",
     "output_type": "stream",
     "text": [
      "x shape : (14366, 26, 26), y shape : (14366, 1)\n"
     ]
    }
   ],
   "source": [
    "# check dimension\n",
    "print('x shape : {}, y shape : {}'.format(x.shape, y.shape))"
   ]
  },
  {
   "cell_type": "markdown",
   "metadata": {
    "id": "vXxw-BMY-8zW"
   },
   "source": [
    "plot 1st data for check."
   ]
  },
  {
   "cell_type": "code",
   "execution_count": 12,
   "metadata": {
    "colab": {
     "base_uri": "https://localhost:8080/",
     "height": 448
    },
    "executionInfo": {
     "elapsed": 10,
     "status": "ok",
     "timestamp": 1710628195100,
     "user": {
      "displayName": "Ashifur Redwan",
      "userId": "11513592512164483482"
     },
     "user_tz": -360
    },
    "id": "O-1vZwHYTKfD",
    "outputId": "76eea674-6b86-437d-eb8f-548bb6b2d77e"
   },
   "outputs": [
    {
     "data": {
      "image/png": "[encoded data removed]",
      "text/plain": [
       "<Figure size 640x480 with 1 Axes>"
      ]
     },
     "metadata": {},
     "output_type": "display_data"
    },
    {
     "name": "stdout",
     "output_type": "stream",
     "text": [
      "Faulty case : ['none'] \n"
     ]
    }
   ],
   "source": [
    "# plot 1st data\n",
    "plt.imshow(x[0])\n",
    "plt.show()\n",
    "\n",
    "# check faulty case\n",
    "print('Faulty case : {} '.format(y[0]))"
   ]
  },
  {
   "cell_type": "markdown",
   "metadata": {
    "id": "oAlnyoAo_EEe"
   },
   "source": [
    "Using 2D Convolutional Autoencoder with expanded dimensionality.\n"
   ]
  },
  {
   "cell_type": "code",
   "execution_count": 13,
   "metadata": {
    "executionInfo": {
     "elapsed": 9,
     "status": "ok",
     "timestamp": 1710628195101,
     "user": {
      "displayName": "Ashifur Redwan",
      "userId": "11513592512164483482"
     },
     "user_tz": -360
    },
    "id": "fEjjc-v3TMjc"
   },
   "outputs": [],
   "source": [
    "#add channel\n",
    "x = x.reshape((-1, 26, 26, 1))"
   ]
  },
  {
   "cell_type": "markdown",
   "metadata": {
    "id": "adv93Ttf_RdG"
   },
   "source": [
    "Create defective type list, check defective type"
   ]
  },
  {
   "cell_type": "code",
   "execution_count": 14,
   "metadata": {
    "colab": {
     "base_uri": "https://localhost:8080/"
    },
    "executionInfo": {
     "elapsed": 9,
     "status": "ok",
     "timestamp": 1710628195101,
     "user": {
      "displayName": "Ashifur Redwan",
      "userId": "11513592512164483482"
     },
     "user_tz": -360
    },
    "id": "3JXYPemFTONz",
    "outputId": "8781481e-858c-443a-a76b-24786f6e1db0"
   },
   "outputs": [
    {
     "name": "stdout",
     "output_type": "stream",
     "text": [
      "Faulty case list : ['Center' 'Donut' 'Edge-Loc' 'Edge-Ring' 'Loc' 'Near-full' 'Random'\n",
      " 'Scratch' 'none']\n"
     ]
    }
   ],
   "source": [
    "faulty_case = np.unique(y)\n",
    "print('Faulty case list : {}'.format(faulty_case))"
   ]
  },
  {
   "cell_type": "code",
   "execution_count": 15,
   "metadata": {
    "colab": {
     "base_uri": "https://localhost:8080/"
    },
    "executionInfo": {
     "elapsed": 8,
     "status": "ok",
     "timestamp": 1710628195101,
     "user": {
      "displayName": "Ashifur Redwan",
      "userId": "11513592512164483482"
     },
     "user_tz": -360
    },
    "id": "0yrrNJRUTP7k",
    "outputId": "01d92a4b-64b2-4d44-e61e-e063a9f72e1c"
   },
   "outputs": [
    {
     "name": "stdout",
     "output_type": "stream",
     "text": [
      "Center : 90\n",
      "Donut : 1\n",
      "Edge-Loc : 296\n",
      "Edge-Ring : 31\n",
      "Loc : 297\n",
      "Near-full : 16\n",
      "Random : 74\n",
      "Scratch : 72\n",
      "none : 13489\n"
     ]
    }
   ],
   "source": [
    "for f in faulty_case :\n",
    "    print('{} : {}'.format(f, len(y[y==f])))"
   ]
  },
  {
   "cell_type": "code",
   "execution_count": 16,
   "metadata": {
    "executionInfo": {
     "elapsed": 9601,
     "status": "ok",
     "timestamp": 1710628204695,
     "user": {
      "displayName": "Ashifur Redwan",
      "userId": "11513592512164483482"
     },
     "user_tz": -360
    },
    "id": "6P3r7JLBTRyE"
   },
   "outputs": [],
   "source": [
    "# One-hot-Encoding faulty categorical variable as channel\n",
    "new_x = np.zeros((len(x), 26, 26, 3))\n",
    "\n",
    "for w in range(len(x)):\n",
    "    for i in range(26):\n",
    "        for j in range(26):\n",
    "            new_x[w, i, j, int(x[w, i, j])] = 1"
   ]
  },
  {
   "cell_type": "code",
   "execution_count": 17,
   "metadata": {
    "colab": {
     "base_uri": "https://localhost:8080/"
    },
    "executionInfo": {
     "elapsed": 17,
     "status": "ok",
     "timestamp": 1710628204695,
     "user": {
      "displayName": "Ashifur Redwan",
      "userId": "11513592512164483482"
     },
     "user_tz": -360
    },
    "id": "TKfqxWUrTT2E",
    "outputId": "1144915a-ae2a-4b2a-9e12-ec67416640e9"
   },
   "outputs": [
    {
     "data": {
      "text/plain": [
       "(14366, 26, 26, 3)"
      ]
     },
     "execution_count": 17,
     "metadata": {},
     "output_type": "execute_result"
    }
   ],
   "source": [
    "#check new x dimension\n",
    "new_x.shape"
   ]
  },
  {
   "cell_type": "markdown",
   "metadata": {
    "id": "4KHFCfklTz98"
   },
   "source": [
    "Data expansion is necessary to solve the problem of data inconsistency. Since wafer data is image data, Convolutional Autoencoder is used.\n",
    "\n",
    "\n",
    "\n",
    "\n"
   ]
  },
  {
   "cell_type": "code",
   "execution_count": 18,
   "metadata": {
    "executionInfo": {
     "elapsed": 16,
     "status": "ok",
     "timestamp": 1710628204696,
     "user": {
      "displayName": "Ashifur Redwan",
      "userId": "11513592512164483482"
     },
     "user_tz": -360
    },
    "id": "3ejoKrqIT0c8"
   },
   "outputs": [],
   "source": [
    "# parameter\n",
    "epoch=15\n",
    "batch_size=1024"
   ]
  },
  {
   "cell_type": "code",
   "execution_count": 19,
   "metadata": {
    "executionInfo": {
     "elapsed": 15,
     "status": "ok",
     "timestamp": 1710628204696,
     "user": {
      "displayName": "Ashifur Redwan",
      "userId": "11513592512164483482"
     },
     "user_tz": -360
    },
    "id": "0V7S__i7T3UL"
   },
   "outputs": [],
   "source": [
    "# Encoder\n",
    "input_shape = (26, 26, 3)\n",
    "input_tensor = Input(input_shape)\n",
    "encode = layers.Conv2D(64, (3,3), padding='same', activation='relu')(input_tensor)\n",
    "\n",
    "latent_vector = layers.MaxPool2D()(encode)\n",
    "\n",
    "# Decoder\n",
    "decode_layer_1 = layers.Conv2DTranspose(64, (3,3), padding='same', activation='relu')\n",
    "decode_layer_2 = layers.UpSampling2D()\n",
    "output_tensor = layers.Conv2DTranspose(3, (3,3), padding='same', activation='sigmoid')\n",
    "\n",
    "# connect decoder layers\n",
    "decode = decode_layer_1(latent_vector)\n",
    "decode = decode_layer_2(decode)\n",
    "\n",
    "ae = models.Model(input_tensor, output_tensor(decode))\n",
    "ae.compile(optimizer = 'Adam',\n",
    "              loss = 'mse',\n",
    "             )"
   ]
  },
  {
   "cell_type": "code",
   "execution_count": 20,
   "metadata": {
    "colab": {
     "base_uri": "https://localhost:8080/"
    },
    "executionInfo": {
     "elapsed": 694,
     "status": "ok",
     "timestamp": 1710628205374,
     "user": {
      "displayName": "Ashifur Redwan",
      "userId": "11513592512164483482"
     },
     "user_tz": -360
    },
    "id": "R79JDhTqMKfk",
    "outputId": "b5d308f1-b494-4164-9faf-1b5ef9473672"
   },
   "outputs": [
    {
     "name": "stdout",
     "output_type": "stream",
     "text": [
      "Model: \"model\"\n",
      "_________________________________________________________________\n",
      " Layer (type)                Output Shape              Param #   \n",
      "=================================================================\n",
      " input_1 (InputLayer)        [(None, 26, 26, 3)]       0         \n",
      "                                                                 \n",
      " conv2d (Conv2D)             (None, 26, 26, 64)        1792      \n",
      "                                                                 \n",
      " max_pooling2d (MaxPooling2D  (None, 13, 13, 64)       0         \n",
      " )                                                               \n",
      "                                                                 \n",
      " conv2d_transpose (Conv2DTra  (None, 13, 13, 64)       36928     \n",
      " nspose)                                                         \n",
      "                                                                 \n",
      " up_sampling2d (UpSampling2D  (None, 26, 26, 64)       0         \n",
      " )                                                               \n",
      "                                                                 \n",
      " conv2d_transpose_1 (Conv2DT  (None, 26, 26, 3)        1731      \n",
      " ranspose)                                                       \n",
      "                                                                 \n",
      "=================================================================\n",
      "Total params: 40,451\n",
      "Trainable params: 40,451\n",
      "Non-trainable params: 0\n",
      "_________________________________________________________________\n"
     ]
    }
   ],
   "source": [
    "ae.summary()"
   ]
  },
  {
   "cell_type": "code",
   "execution_count": 21,
   "metadata": {
    "colab": {
     "base_uri": "https://localhost:8080/"
    },
    "executionInfo": {
     "elapsed": 411772,
     "status": "ok",
     "timestamp": 1710628948681,
     "user": {
      "displayName": "Ashifur Redwan",
      "userId": "11513592512164483482"
     },
     "user_tz": -360
    },
    "id": "qh55dZnYMNar",
    "outputId": "bd7463da-777f-4b52-918c-269f1f830ac9"
   },
   "outputs": [
    {
     "name": "stdout",
     "output_type": "stream",
     "text": [
      "Epoch 1/15\n",
      "15/15 - 16s - loss: 0.1587 - 16s/epoch - 1s/step\n",
      "Epoch 2/15\n",
      "15/15 - 15s - loss: 0.0948 - 15s/epoch - 1s/step\n",
      "Epoch 3/15\n",
      "15/15 - 15s - loss: 0.0852 - 15s/epoch - 1s/step\n",
      "Epoch 4/15\n",
      "15/15 - 16s - loss: 0.0748 - 16s/epoch - 1s/step\n",
      "Epoch 5/15\n",
      "15/15 - 17s - loss: 0.0657 - 17s/epoch - 1s/step\n",
      "Epoch 6/15\n",
      "15/15 - 15s - loss: 0.0588 - 15s/epoch - 1s/step\n",
      "Epoch 7/15\n",
      "15/15 - 18s - loss: 0.0539 - 18s/epoch - 1s/step\n",
      "Epoch 8/15\n",
      "15/15 - 18s - loss: 0.0496 - 18s/epoch - 1s/step\n",
      "Epoch 9/15\n",
      "15/15 - 19s - loss: 0.0453 - 19s/epoch - 1s/step\n",
      "Epoch 10/15\n",
      "15/15 - 20s - loss: 0.0407 - 20s/epoch - 1s/step\n",
      "Epoch 11/15\n",
      "15/15 - 22s - loss: 0.0362 - 22s/epoch - 1s/step\n",
      "Epoch 12/15\n",
      "15/15 - 18s - loss: 0.0323 - 18s/epoch - 1s/step\n",
      "Epoch 13/15\n",
      "15/15 - 19s - loss: 0.0290 - 19s/epoch - 1s/step\n",
      "Epoch 14/15\n",
      "15/15 - 18s - loss: 0.0261 - 18s/epoch - 1s/step\n",
      "Epoch 15/15\n",
      "15/15 - 16s - loss: 0.0236 - 16s/epoch - 1s/step\n"
     ]
    },
    {
     "data": {
      "text/plain": [
       "<keras.callbacks.History at 0x1bdc427cbe0>"
      ]
     },
     "execution_count": 21,
     "metadata": {},
     "output_type": "execute_result"
    }
   ],
   "source": [
    "# start train\n",
    "ae.fit(new_x, new_x,\n",
    "       batch_size=batch_size,\n",
    "       epochs=epoch,\n",
    "       verbose=2)"
   ]
  },
  {
   "cell_type": "markdown",
   "metadata": {
    "id": "2k9eUYtOV7RS"
   },
   "source": [
    "Creating an encoder model as part of the autocoder model layer"
   ]
  },
  {
   "cell_type": "code",
   "execution_count": 22,
   "metadata": {
    "executionInfo": {
     "elapsed": 3,
     "status": "ok",
     "timestamp": 1710628948682,
     "user": {
      "displayName": "Ashifur Redwan",
      "userId": "11513592512164483482"
     },
     "user_tz": -360
    },
    "id": "KEpPho3XO-_8"
   },
   "outputs": [],
   "source": [
    "# Make encoder model with part of autoencoder model layers\n",
    "encoder = models.Model(input_tensor, latent_vector)"
   ]
  },
  {
   "cell_type": "markdown",
   "metadata": {
    "id": "TzUX_C-rV-Xq"
   },
   "source": [
    "Creating a decoder model as part of the autocoder model layer"
   ]
  },
  {
   "cell_type": "code",
   "execution_count": 23,
   "metadata": {
    "executionInfo": {
     "elapsed": 3,
     "status": "ok",
     "timestamp": 1710628948682,
     "user": {
      "displayName": "Ashifur Redwan",
      "userId": "11513592512164483482"
     },
     "user_tz": -360
    },
    "id": "ooLEocj_PAuT"
   },
   "outputs": [],
   "source": [
    "# Make decoder model with part of autoencoder model layers\n",
    "decoder_input = Input((13, 13, 64))\n",
    "decode = decode_layer_1(decoder_input)\n",
    "decode = decode_layer_2(decode)\n",
    "\n",
    "decoder = models.Model(decoder_input, output_tensor(decode))"
   ]
  },
  {
   "cell_type": "markdown",
   "metadata": {
    "id": "koLYtjK0WOGh"
   },
   "source": [
    "Original defect wafer encoding"
   ]
  },
  {
   "cell_type": "code",
   "execution_count": 24,
   "metadata": {
    "colab": {
     "base_uri": "https://localhost:8080/"
    },
    "executionInfo": {
     "elapsed": 7044,
     "status": "ok",
     "timestamp": 1710628955723,
     "user": {
      "displayName": "Ashifur Redwan",
      "userId": "11513592512164483482"
     },
     "user_tz": -360
    },
    "id": "QDjh7yEHPB8L",
    "outputId": "f824b64d-0204-463f-d4ca-1b56e6fc3b37"
   },
   "outputs": [
    {
     "name": "stdout",
     "output_type": "stream",
     "text": [
      "449/449 [==============================] - 2s 4ms/step\n"
     ]
    }
   ],
   "source": [
    "# Encode original faulty wafer\n",
    "encoded_x = encoder.predict(new_x)"
   ]
  },
  {
   "cell_type": "markdown",
   "metadata": {
    "id": "Y92o1FE1WRp6"
   },
   "source": [
    "Adding noise to the encoded potential defect wafer vector"
   ]
  },
  {
   "cell_type": "code",
   "execution_count": 25,
   "metadata": {
    "executionInfo": {
     "elapsed": 6733,
     "status": "ok",
     "timestamp": 1710628962456,
     "user": {
      "displayName": "Ashifur Redwan",
      "userId": "11513592512164483482"
     },
     "user_tz": -360
    },
    "id": "YFzRB8YQPDEK"
   },
   "outputs": [],
   "source": [
    "# Add noise to encoded latent faulty wafers vector.\n",
    "noised_encoded_x = encoded_x + np.random.normal(loc=0, scale=0.1, size = (len(encoded_x), 13, 13, 64))"
   ]
  },
  {
   "cell_type": "markdown",
   "metadata": {
    "id": "MeAG3MiRWVyI"
   },
   "source": [
    "Check the original defect wafer data"
   ]
  },
  {
   "cell_type": "code",
   "execution_count": 26,
   "metadata": {
    "id": "N0Uvxc0LPEL5"
   },
   "outputs": [
    {
     "data": {
      "text/plain": [
       "<matplotlib.image.AxesImage at 0x1bdbdc9cd00>"
      ]
     },
     "execution_count": 26,
     "metadata": {},
     "output_type": "execute_result"
    },
    {
     "data": {
      "image/png": "[encoded data removed]",
      "text/plain": [
       "<Figure size 640x480 with 1 Axes>"
      ]
     },
     "metadata": {},
     "output_type": "display_data"
    }
   ],
   "source": [
    "# check original faulty wafer data\n",
    "plt.imshow(np.argmax(new_x[3], axis=2))"
   ]
  },
  {
   "cell_type": "markdown",
   "metadata": {
    "id": "pHapAleyWZDJ"
   },
   "source": [
    "New noise defect wafer data verification"
   ]
  },
  {
   "cell_type": "code",
   "execution_count": 27,
   "metadata": {
    "colab": {
     "base_uri": "https://localhost:8080/",
     "height": 466
    },
    "executionInfo": {
     "elapsed": 22706,
     "status": "ok",
     "timestamp": 1710628985163,
     "user": {
      "displayName": "Ashifur Redwan",
      "userId": "11513592512164483482"
     },
     "user_tz": -360
    },
    "id": "YgqTVc5aPQvT",
    "outputId": "b860df48-8eee-492b-fd15-94bbddea02ea"
   },
   "outputs": [
    {
     "name": "stdout",
     "output_type": "stream",
     "text": [
      "449/449 [==============================] - 6s 14ms/step\n"
     ]
    },
    {
     "data": {
      "text/plain": [
       "<matplotlib.image.AxesImage at 0x1bdc24c0f40>"
      ]
     },
     "execution_count": 27,
     "metadata": {},
     "output_type": "execute_result"
    },
    {
     "data": {
      "image/png": "[encoded data removed]",
      "text/plain": [
       "<Figure size 640x480 with 1 Axes>"
      ]
     },
     "metadata": {},
     "output_type": "display_data"
    }
   ],
   "source": [
    "# check new noised faulty wafer data\n",
    "noised_gen_x = np.argmax(decoder.predict(noised_encoded_x), axis=3)\n",
    "plt.imshow(noised_gen_x[3])"
   ]
  },
  {
   "cell_type": "markdown",
   "metadata": {
    "id": "UJxd9rLOZ_yg"
   },
   "source": [
    "Check reconstructed original defective wafer data"
   ]
  },
  {
   "cell_type": "code",
   "execution_count": 28,
   "metadata": {
    "id": "d2OHogeVPU4C"
   },
   "outputs": [
    {
     "name": "stdout",
     "output_type": "stream",
     "text": [
      "449/449 [==============================] - 7s 16ms/step\n"
     ]
    },
    {
     "data": {
      "text/plain": [
       "<matplotlib.image.AxesImage at 0x1bdc1124850>"
      ]
     },
     "execution_count": 28,
     "metadata": {},
     "output_type": "execute_result"
    },
    {
     "data": {
      "image/png": "[encoded data removed]",
      "text/plain": [
       "<Figure size 640x480 with 1 Axes>"
      ]
     },
     "metadata": {},
     "output_type": "display_data"
    }
   ],
   "source": [
    "# check reconstructed original faulty wafer data\n",
    "gen_x = np.argmax(ae.predict(new_x), axis=3)\n",
    "plt.imshow(gen_x[3])"
   ]
  },
  {
   "cell_type": "markdown",
   "metadata": {
    "id": "VweQMayTgCCQ"
   },
   "source": [
    "The data for all defective cases will be expanded in the same way as above, with data containing 2000 samples for each case."
   ]
  },
  {
   "cell_type": "code",
   "execution_count": 29,
   "metadata": {
    "id": "amkl4lmSgBuX"
   },
   "outputs": [],
   "source": [
    "# augment function define\n",
    "def gen_data(wafer, label):\n",
    "    # Encode input wafer\n",
    "    encoded_x = encoder.predict(wafer)\n",
    "\n",
    "    # dummy array for collecting noised wafer\n",
    "    gen_x = np.zeros((1, 26, 26, 3))\n",
    "\n",
    "    # Make wafer until total # of wafer to 2000\n",
    "    for i in range((2000//len(wafer)) + 1):\n",
    "        noised_encoded_x = encoded_x + np.random.normal(loc=0, scale=0.1, size = (len(encoded_x), 13, 13, 64))\n",
    "        noised_gen_x = decoder.predict(noised_encoded_x)\n",
    "        gen_x = np.concatenate((gen_x, noised_gen_x), axis=0)\n",
    "    # also make label vector with same length\n",
    "    gen_y = np.full((len(gen_x), 1), label)\n",
    "\n",
    "    # return date without 1st dummy data.\n",
    "    return gen_x[1:], gen_y[1:]"
   ]
  },
  {
   "cell_type": "code",
   "execution_count": 30,
   "metadata": {
    "id": "ZpZIrUlwgOs-"
   },
   "outputs": [
    {
     "name": "stdout",
     "output_type": "stream",
     "text": [
      "Center : 90\n",
      "Donut : 1\n",
      "Edge-Loc : 296\n",
      "Edge-Ring : 31\n",
      "Loc : 297\n",
      "Near-full : 16\n",
      "Random : 74\n",
      "Scratch : 72\n",
      "none : 13489\n"
     ]
    }
   ],
   "source": [
    "for f in faulty_case :\n",
    "    print('{} : {}'.format(f, len(y[y==f])))"
   ]
  },
  {
   "cell_type": "code",
   "execution_count": 31,
   "metadata": {
    "id": "XzngkQ90gr4X"
   },
   "outputs": [],
   "source": [
    "# choice index without replace.\n",
    "none_idx = np.where(y=='none')[0][np.random.choice(len(np.where(y=='none')[0]), size=11000, replace=False)]"
   ]
  },
  {
   "cell_type": "code",
   "execution_count": 32,
   "metadata": {
    "executionInfo": {
     "elapsed": 542,
     "status": "ok",
     "timestamp": 1710629257924,
     "user": {
      "displayName": "Ashifur Redwan",
      "userId": "11513592512164483482"
     },
     "user_tz": -360
    },
    "id": "syN9e71FgtQv"
   },
   "outputs": [],
   "source": [
    "# delete choiced index data.\n",
    "new_x = np.delete(new_x, none_idx, axis=0)\n",
    "new_y = np.delete(y, none_idx, axis=0)"
   ]
  },
  {
   "cell_type": "code",
   "execution_count": 33,
   "metadata": {
    "id": "GLyxXVXWgu6O"
   },
   "outputs": [
    {
     "name": "stdout",
     "output_type": "stream",
     "text": [
      "After Delete \"none\" class new_x shape : (3366, 26, 26, 3), new_y shape : (3366, 1)\n"
     ]
    }
   ],
   "source": [
    "print('After Delete \"none\" class new_x shape : {}, new_y shape : {}'.format(new_x.shape, new_y.shape))"
   ]
  },
  {
   "cell_type": "code",
   "execution_count": 34,
   "metadata": {
    "id": "6rp23-Ipgxu4"
   },
   "outputs": [
    {
     "name": "stdout",
     "output_type": "stream",
     "text": [
      "Center : 90\n",
      "Donut : 1\n",
      "Edge-Loc : 296\n",
      "Edge-Ring : 31\n",
      "Loc : 297\n",
      "Near-full : 16\n",
      "Random : 74\n",
      "Scratch : 72\n",
      "none : 2489\n"
     ]
    }
   ],
   "source": [
    "for f in faulty_case :\n",
    "    print('{} : {}'.format(f, len(new_y[new_y==f])))"
   ]
  },
  {
   "cell_type": "code",
   "execution_count": 35,
   "metadata": {
    "id": "ZpISPzg7g1bW"
   },
   "outputs": [],
   "source": [
    "# make string label data to numerical data\n",
    "for i, l in enumerate(faulty_case):\n",
    "    new_y[new_y==l] = i\n",
    "\n",
    "# one-hot-encoding\n",
    "new_y = to_categorical(new_y)\n"
   ]
  },
  {
   "cell_type": "code",
   "execution_count": 36,
   "metadata": {
    "executionInfo": {
     "elapsed": 3,
     "status": "ok",
     "timestamp": 1710629257925,
     "user": {
      "displayName": "Ashifur Redwan",
      "userId": "11513592512164483482"
     },
     "user_tz": -360
    },
    "id": "jskygc-7g3EW"
   },
   "outputs": [],
   "source": [
    "# split data train, test\n",
    "x_train, x_test, y_train, y_test = train_test_split(new_x, new_y,\n",
    "                                                    test_size=0.33,\n",
    "                                                    random_state=2019)"
   ]
  },
  {
   "cell_type": "code",
   "execution_count": 37,
   "metadata": {
    "colab": {
     "base_uri": "https://localhost:8080/"
    },
    "executionInfo": {
     "elapsed": 3,
     "status": "ok",
     "timestamp": 1710629257925,
     "user": {
      "displayName": "Ashifur Redwan",
      "userId": "11513592512164483482"
     },
     "user_tz": -360
    },
    "id": "hZQKib3qg28V",
    "outputId": "b4b7a4bb-c528-46de-b161-f772387f1a20"
   },
   "outputs": [
    {
     "name": "stdout",
     "output_type": "stream",
     "text": [
      "Train x : (2255, 26, 26, 3), y : (2255, 9)\n",
      "Test x: (1111, 26, 26, 3), y : (1111, 9)\n"
     ]
    }
   ],
   "source": [
    "print('Train x : {}, y : {}'.format(x_train.shape, y_train.shape))\n",
    "print('Test x: {}, y : {}'.format(x_test.shape, y_test.shape))"
   ]
  },
  {
   "cell_type": "markdown",
   "metadata": {
    "id": "QyNlyrWng8cl"
   },
   "source": [
    "Simple 2D CNN Model\n",
    "Since wafer data is image, CNN model is used for classification."
   ]
  },
  {
   "cell_type": "markdown",
   "metadata": {
    "id": "pRIc3CvbhHve"
   },
   "source": [
    "Define the model generation function, and Sklearn will cross-validate the model"
   ]
  },
  {
   "cell_type": "code",
   "execution_count": 40,
   "metadata": {
    "executionInfo": {
     "elapsed": 1,
     "status": "ok",
     "timestamp": 1710629257925,
     "user": {
      "displayName": "Ashifur Redwan",
      "userId": "11513592512164483482"
     },
     "user_tz": -360
    },
    "id": "ddrykcTDhMzn"
   },
   "outputs": [],
   "source": [
    "from keras import layers\n",
    "from keras import models\n",
    "from keras.layers import Input\n",
    "from keras.utils import plot_model  # For visualization (optional)\n",
    "\n",
    "def create_model():\n",
    "    input_shape = (26, 26, 3)\n",
    "    input_tensor = Input(input_shape)\n",
    "\n",
    "    conv_1 = layers.Conv2D(16, (3, 3), activation='relu', padding='same')(input_tensor)\n",
    "    conv_1 = layers.Dropout(0.2)(conv_1)  # Add dropout after first convolutional layer\n",
    "\n",
    "    conv_2 = layers.Conv2D(64, (3, 3), activation='relu', padding='same')(conv_1)\n",
    "    conv_2 = layers.Dropout(0.2)(conv_2)  # Add dropout after second convolutional layer\n",
    "\n",
    "    conv_3 = layers.Conv2D(128, (3, 3), activation='relu', padding='same')(conv_2)\n",
    "    conv_3 = layers.Dropout(0.2)(conv_3)  # Add dropout after third convolutional layer\n",
    "\n",
    "    flat = layers.Flatten()(conv_3)\n",
    "\n",
    "    dense_1 = layers.Dense(512, activation='relu')(flat)\n",
    "    dense_1 = layers.Dropout(0.4)(dense_1)\n",
    "    dense_2 = layers.Dense(128, activation='relu')(dense_1)\n",
    "    dense_2 = layers.Dropout(0.4)(dense_2)\n",
    "\n",
    "    output_tensor = layers.Dense(9, activation='softmax')(dense_2)\n",
    "\n",
    "    model = models.Model(input_tensor, output_tensor)\n",
    "    model.compile(optimizer='Adam',\n",
    "                  loss='categorical_crossentropy',\n",
    "                  metrics=['accuracy'])\n",
    "\n",
    "    return model\n"
   ]
  },
  {
   "cell_type": "code",
   "execution_count": 41,
   "metadata": {},
   "outputs": [
    {
     "name": "stdout",
     "output_type": "stream",
     "text": [
      "Model: \"model_3\"\n",
      "_________________________________________________________________\n",
      " Layer (type)                Output Shape              Param #   \n",
      "=================================================================\n",
      " input_3 (InputLayer)        [(None, 26, 26, 3)]       0         \n",
      "                                                                 \n",
      " conv2d_1 (Conv2D)           (None, 26, 26, 16)        448       \n",
      "                                                                 \n",
      " dropout (Dropout)           (None, 26, 26, 16)        0         \n",
      "                                                                 \n",
      " conv2d_2 (Conv2D)           (None, 26, 26, 64)        9280      \n",
      "                                                                 \n",
      " dropout_1 (Dropout)         (None, 26, 26, 64)        0         \n",
      "                                                                 \n",
      " conv2d_3 (Conv2D)           (None, 26, 26, 128)       73856     \n",
      "                                                                 \n",
      " dropout_2 (Dropout)         (None, 26, 26, 128)       0         \n",
      "                                                                 \n",
      " flatten (Flatten)           (None, 86528)             0         \n",
      "                                                                 \n",
      " dense (Dense)               (None, 512)               44302848  \n",
      "                                                                 \n",
      " dropout_3 (Dropout)         (None, 512)               0         \n",
      "                                                                 \n",
      " dense_1 (Dense)             (None, 128)               65664     \n",
      "                                                                 \n",
      " dropout_4 (Dropout)         (None, 128)               0         \n",
      "                                                                 \n",
      " dense_2 (Dense)             (None, 9)                 1161      \n",
      "                                                                 \n",
      "=================================================================\n",
      "Total params: 44,453,257\n",
      "Trainable params: 44,453,257\n",
      "Non-trainable params: 0\n",
      "_________________________________________________________________\n"
     ]
    },
    {
     "data": {
      "image/png": "[encoded data removed]",
      "text/plain": [
       "<PIL.Image.Image image mode=RGBA size=864x139>"
      ]
     },
     "execution_count": 41,
     "metadata": {},
     "output_type": "execute_result"
    }
   ],
   "source": [
    "from keras.utils import plot_model\n",
    "\n",
    "# Define your CNN model\n",
    "model = create_model()\n",
    "\n",
    "# Display model summary\n",
    "model.summary()\n",
    "\n",
    "import visualkeras\n",
    "\n",
    "visualkeras.layered_view(model).show() # display using your system viewer\n",
    "visualkeras.layered_view(model, to_file='output.png') # write to disk\n",
    "visualkeras.layered_view(model, to_file='output.png').show() # write and show\n",
    "\n",
    "visualkeras.layered_view(model)\n"
   ]
  },
  {
   "cell_type": "code",
   "execution_count": 42,
   "metadata": {
    "colab": {
     "base_uri": "https://localhost:8080/"
    },
    "executionInfo": {
     "elapsed": 714703,
     "status": "ok",
     "timestamp": 1710638883109,
     "user": {
      "displayName": "Ashifur Redwan",
      "userId": "11513592512164483482"
     },
     "user_tz": -360
    },
    "id": "xQoJNKtmhWnJ",
    "outputId": "a99dedde-b766-45e3-c989-80b012170114"
   },
   "outputs": [
    {
     "name": "stdout",
     "output_type": "stream",
     "text": [
      "Epoch 1/25\n",
      "2/2 - 12s - loss: 3.4941 - accuracy: 0.2748 - 12s/epoch - 6s/step\n",
      "Epoch 2/25\n",
      "2/2 - 11s - loss: 2.1590 - accuracy: 0.5835 - 11s/epoch - 6s/step\n",
      "Epoch 3/25\n",
      "2/2 - 12s - loss: 1.4983 - accuracy: 0.5216 - 12s/epoch - 6s/step\n",
      "Epoch 4/25\n",
      "2/2 - 13s - loss: 1.3843 - accuracy: 0.7099 - 13s/epoch - 6s/step\n",
      "Epoch 5/25\n",
      "2/2 - 12s - loss: 1.1875 - accuracy: 0.7345 - 12s/epoch - 6s/step\n",
      "Epoch 6/25\n",
      "2/2 - 13s - loss: 1.1061 - accuracy: 0.7425 - 13s/epoch - 6s/step\n",
      "Epoch 7/25\n",
      "2/2 - 12s - loss: 1.1413 - accuracy: 0.7445 - 12s/epoch - 6s/step\n",
      "Epoch 8/25\n",
      "2/2 - 14s - loss: 1.0072 - accuracy: 0.7485 - 14s/epoch - 7s/step\n",
      "Epoch 9/25\n",
      "2/2 - 12s - loss: 0.9999 - accuracy: 0.7485 - 12s/epoch - 6s/step\n",
      "Epoch 10/25\n",
      "2/2 - 12s - loss: 1.0054 - accuracy: 0.7478 - 12s/epoch - 6s/step\n",
      "Epoch 11/25\n",
      "2/2 - 13s - loss: 0.9684 - accuracy: 0.7425 - 13s/epoch - 6s/step\n",
      "Epoch 12/25\n",
      "2/2 - 14s - loss: 0.9475 - accuracy: 0.7478 - 14s/epoch - 7s/step\n",
      "Epoch 13/25\n",
      "2/2 - 13s - loss: 0.9223 - accuracy: 0.7425 - 13s/epoch - 7s/step\n",
      "Epoch 14/25\n",
      "2/2 - 13s - loss: 0.8760 - accuracy: 0.7485 - 13s/epoch - 6s/step\n",
      "Epoch 15/25\n",
      "2/2 - 12s - loss: 0.8604 - accuracy: 0.7532 - 12s/epoch - 6s/step\n",
      "Epoch 16/25\n",
      "2/2 - 13s - loss: 0.8346 - accuracy: 0.7545 - 13s/epoch - 6s/step\n",
      "Epoch 17/25\n",
      "2/2 - 13s - loss: 0.8121 - accuracy: 0.7611 - 13s/epoch - 7s/step\n",
      "Epoch 18/25\n",
      "2/2 - 12s - loss: 0.7879 - accuracy: 0.7625 - 12s/epoch - 6s/step\n",
      "Epoch 19/25\n",
      "2/2 - 13s - loss: 0.7522 - accuracy: 0.7718 - 13s/epoch - 6s/step\n",
      "Epoch 20/25\n",
      "2/2 - 15s - loss: 0.7282 - accuracy: 0.7804 - 15s/epoch - 7s/step\n",
      "Epoch 21/25\n",
      "2/2 - 13s - loss: 0.6981 - accuracy: 0.7864 - 13s/epoch - 6s/step\n",
      "Epoch 22/25\n",
      "2/2 - 14s - loss: 0.7010 - accuracy: 0.7977 - 14s/epoch - 7s/step\n",
      "Epoch 23/25\n",
      "2/2 - 14s - loss: 0.6527 - accuracy: 0.7997 - 14s/epoch - 7s/step\n",
      "Epoch 24/25\n",
      "2/2 - 13s - loss: 0.6346 - accuracy: 0.8104 - 13s/epoch - 6s/step\n",
      "Epoch 25/25\n",
      "2/2 - 13s - loss: 0.6170 - accuracy: 0.8230 - 13s/epoch - 7s/step\n",
      "1/1 - 2s - loss: 0.5476 - accuracy: 0.8351 - 2s/epoch - 2s/step\n",
      "Epoch 1/25\n",
      "2/2 - 13s - loss: 3.1185 - accuracy: 0.2522 - 13s/epoch - 7s/step\n",
      "Epoch 2/25\n",
      "2/2 - 12s - loss: 1.8916 - accuracy: 0.5682 - 12s/epoch - 6s/step\n",
      "Epoch 3/25\n",
      "2/2 - 12s - loss: 1.5427 - accuracy: 0.4637 - 12s/epoch - 6s/step\n",
      "Epoch 4/25\n",
      "2/2 - 13s - loss: 1.4316 - accuracy: 0.6700 - 13s/epoch - 7s/step\n",
      "Epoch 5/25\n",
      "2/2 - 12s - loss: 1.2183 - accuracy: 0.7219 - 12s/epoch - 6s/step\n",
      "Epoch 6/25\n",
      "2/2 - 14s - loss: 1.1573 - accuracy: 0.7379 - 14s/epoch - 7s/step\n",
      "Epoch 7/25\n",
      "2/2 - 13s - loss: 1.1313 - accuracy: 0.7399 - 13s/epoch - 6s/step\n",
      "Epoch 8/25\n",
      "2/2 - 12s - loss: 1.0629 - accuracy: 0.7425 - 12s/epoch - 6s/step\n",
      "Epoch 9/25\n",
      "2/2 - 13s - loss: 1.0781 - accuracy: 0.7432 - 13s/epoch - 6s/step\n",
      "Epoch 10/25\n",
      "2/2 - 13s - loss: 1.0571 - accuracy: 0.7412 - 13s/epoch - 6s/step\n",
      "Epoch 11/25\n",
      "2/2 - 11s - loss: 1.0330 - accuracy: 0.7405 - 11s/epoch - 6s/step\n",
      "Epoch 12/25\n",
      "2/2 - 12s - loss: 1.0140 - accuracy: 0.7405 - 12s/epoch - 6s/step\n",
      "Epoch 13/25\n",
      "2/2 - 12s - loss: 1.0056 - accuracy: 0.7438 - 12s/epoch - 6s/step\n",
      "Epoch 14/25\n",
      "2/2 - 12s - loss: 0.9626 - accuracy: 0.7418 - 12s/epoch - 6s/step\n",
      "Epoch 15/25\n",
      "2/2 - 12s - loss: 1.0019 - accuracy: 0.7412 - 12s/epoch - 6s/step\n",
      "Epoch 16/25\n",
      "2/2 - 13s - loss: 0.9595 - accuracy: 0.7392 - 13s/epoch - 6s/step\n",
      "Epoch 17/25\n",
      "2/2 - 13s - loss: 0.9356 - accuracy: 0.7418 - 13s/epoch - 6s/step\n",
      "Epoch 18/25\n",
      "2/2 - 13s - loss: 0.9390 - accuracy: 0.7412 - 13s/epoch - 7s/step\n",
      "Epoch 19/25\n",
      "2/2 - 14s - loss: 0.9321 - accuracy: 0.7438 - 14s/epoch - 7s/step\n",
      "Epoch 20/25\n",
      "2/2 - 14s - loss: 0.9076 - accuracy: 0.7418 - 14s/epoch - 7s/step\n",
      "Epoch 21/25\n",
      "2/2 - 13s - loss: 0.9288 - accuracy: 0.7412 - 13s/epoch - 7s/step\n",
      "Epoch 22/25\n",
      "2/2 - 14s - loss: 0.9131 - accuracy: 0.7438 - 14s/epoch - 7s/step\n",
      "Epoch 23/25\n",
      "2/2 - 12s - loss: 0.8633 - accuracy: 0.7438 - 12s/epoch - 6s/step\n",
      "Epoch 24/25\n",
      "2/2 - 14s - loss: 0.8510 - accuracy: 0.7478 - 14s/epoch - 7s/step\n",
      "Epoch 25/25\n",
      "2/2 - 14s - loss: 0.8306 - accuracy: 0.7492 - 14s/epoch - 7s/step\n",
      "1/1 - 2s - loss: 0.7164 - accuracy: 0.7513 - 2s/epoch - 2s/step\n",
      "Epoch 1/25\n",
      "2/2 - 15s - loss: 3.1889 - accuracy: 0.2706 - 15s/epoch - 8s/step\n",
      "Epoch 2/25\n",
      "2/2 - 14s - loss: 1.7441 - accuracy: 0.6416 - 14s/epoch - 7s/step\n",
      "Epoch 3/25\n",
      "2/2 - 14s - loss: 1.5473 - accuracy: 0.4076 - 14s/epoch - 7s/step\n",
      "Epoch 4/25\n",
      "2/2 - 14s - loss: 1.4678 - accuracy: 0.5851 - 14s/epoch - 7s/step\n",
      "Epoch 5/25\n",
      "2/2 - 14s - loss: 1.2520 - accuracy: 0.6815 - 14s/epoch - 7s/step\n",
      "Epoch 6/25\n",
      "2/2 - 13s - loss: 1.0537 - accuracy: 0.7181 - 13s/epoch - 7s/step\n",
      "Epoch 7/25\n",
      "2/2 - 13s - loss: 1.1571 - accuracy: 0.7301 - 13s/epoch - 7s/step\n",
      "Epoch 8/25\n",
      "2/2 - 13s - loss: 1.0760 - accuracy: 0.7307 - 13s/epoch - 7s/step\n",
      "Epoch 9/25\n",
      "2/2 - 13s - loss: 1.0024 - accuracy: 0.7340 - 13s/epoch - 7s/step\n",
      "Epoch 10/25\n",
      "2/2 - 11s - loss: 1.0120 - accuracy: 0.7314 - 11s/epoch - 6s/step\n",
      "Epoch 11/25\n",
      "2/2 - 12s - loss: 0.9943 - accuracy: 0.7347 - 12s/epoch - 6s/step\n",
      "Epoch 12/25\n",
      "2/2 - 13s - loss: 0.9657 - accuracy: 0.7334 - 13s/epoch - 7s/step\n",
      "Epoch 13/25\n",
      "2/2 - 13s - loss: 0.9800 - accuracy: 0.7347 - 13s/epoch - 7s/step\n",
      "Epoch 14/25\n",
      "2/2 - 12s - loss: 0.9629 - accuracy: 0.7360 - 12s/epoch - 6s/step\n",
      "Epoch 15/25\n",
      "2/2 - 13s - loss: 0.9260 - accuracy: 0.7360 - 13s/epoch - 7s/step\n",
      "Epoch 16/25\n",
      "2/2 - 13s - loss: 0.9410 - accuracy: 0.7354 - 13s/epoch - 7s/step\n",
      "Epoch 17/25\n",
      "2/2 - 15s - loss: 0.9186 - accuracy: 0.7347 - 15s/epoch - 7s/step\n",
      "Epoch 18/25\n",
      "2/2 - 13s - loss: 0.8996 - accuracy: 0.7360 - 13s/epoch - 7s/step\n",
      "Epoch 19/25\n",
      "2/2 - 12s - loss: 0.9040 - accuracy: 0.7354 - 12s/epoch - 6s/step\n",
      "Epoch 20/25\n",
      "2/2 - 13s - loss: 0.8981 - accuracy: 0.7360 - 13s/epoch - 6s/step\n",
      "Epoch 21/25\n",
      "2/2 - 13s - loss: 0.8910 - accuracy: 0.7367 - 13s/epoch - 6s/step\n",
      "Epoch 22/25\n",
      "2/2 - 12s - loss: 0.8810 - accuracy: 0.7387 - 12s/epoch - 6s/step\n",
      "Epoch 23/25\n",
      "2/2 - 13s - loss: 0.8643 - accuracy: 0.7414 - 13s/epoch - 6s/step\n",
      "Epoch 24/25\n",
      "2/2 - 12s - loss: 0.8345 - accuracy: 0.7420 - 12s/epoch - 6s/step\n",
      "Epoch 25/25\n",
      "2/2 - 12s - loss: 0.8336 - accuracy: 0.7440 - 12s/epoch - 6s/step\n",
      "1/1 - 2s - loss: 0.7861 - accuracy: 0.7603 - 2s/epoch - 2s/step\n",
      "CNN Cross validation score : 0.7823 \n",
      "\n"
     ]
    }
   ],
   "source": [
    "# Make keras model to sklearn classifier.\n",
    "model = KerasClassifier(build_fn=create_model, epochs=25, batch_size=1024, verbose=2)\n",
    "\n",
    "# 10-Fold Crossvalidation\n",
    "kfold = KFold(n_splits=3, shuffle=True, random_state=2019)\n",
    "results = cross_val_score(model, x_train, y_train, cv=kfold)\n",
    "\n",
    "# Check 3-fold model's mean accuracy\n",
    "print('CNN Cross validation score : {:.4f}'.format(np.mean(results)), '\\n')"
   ]
  },
  {
   "cell_type": "code",
   "execution_count": 43,
   "metadata": {},
   "outputs": [
    {
     "name": "stdout",
     "output_type": "stream",
     "text": [
      "Epoch 1/25\n",
      "3/3 - 22s - loss: 4.1535 - accuracy: 0.4674 - val_loss: 1.4126 - val_accuracy: 0.1674 - 22s/epoch - 7s/step\n",
      "Epoch 2/25\n",
      "3/3 - 20s - loss: 1.6018 - accuracy: 0.4683 - val_loss: 1.5134 - val_accuracy: 0.7318 - 20s/epoch - 7s/step\n",
      "Epoch 3/25\n",
      "3/3 - 23s - loss: 1.2612 - accuracy: 0.7290 - val_loss: 1.1935 - val_accuracy: 0.7318 - 23s/epoch - 8s/step\n",
      "Epoch 4/25\n",
      "3/3 - 22s - loss: 1.0608 - accuracy: 0.7441 - val_loss: 0.9145 - val_accuracy: 0.7336 - 22s/epoch - 7s/step\n",
      "Epoch 5/25\n",
      "3/3 - 21s - loss: 1.0491 - accuracy: 0.7450 - val_loss: 0.8799 - val_accuracy: 0.7372 - 21s/epoch - 7s/step\n",
      "Epoch 6/25\n",
      "3/3 - 20s - loss: 0.9155 - accuracy: 0.7512 - val_loss: 1.0136 - val_accuracy: 0.7444 - 20s/epoch - 7s/step\n",
      "Epoch 7/25\n",
      "3/3 - 22s - loss: 0.9062 - accuracy: 0.7539 - val_loss: 0.7856 - val_accuracy: 0.7534 - 22s/epoch - 7s/step\n",
      "Epoch 8/25\n",
      "3/3 - 21s - loss: 0.8494 - accuracy: 0.7645 - val_loss: 0.7445 - val_accuracy: 0.7543 - 21s/epoch - 7s/step\n",
      "Epoch 9/25\n",
      "3/3 - 21s - loss: 0.7973 - accuracy: 0.7690 - val_loss: 0.7792 - val_accuracy: 0.7741 - 21s/epoch - 7s/step\n",
      "Epoch 10/25\n",
      "3/3 - 21s - loss: 0.7559 - accuracy: 0.7787 - val_loss: 0.6716 - val_accuracy: 0.7822 - 21s/epoch - 7s/step\n",
      "Epoch 11/25\n",
      "3/3 - 21s - loss: 0.7066 - accuracy: 0.7885 - val_loss: 0.6360 - val_accuracy: 0.7930 - 21s/epoch - 7s/step\n",
      "Epoch 12/25\n",
      "3/3 - 23s - loss: 0.6601 - accuracy: 0.8022 - val_loss: 0.6173 - val_accuracy: 0.8155 - 23s/epoch - 8s/step\n",
      "Epoch 13/25\n",
      "3/3 - 21s - loss: 0.6274 - accuracy: 0.8173 - val_loss: 0.5760 - val_accuracy: 0.8128 - 21s/epoch - 7s/step\n",
      "Epoch 14/25\n",
      "3/3 - 22s - loss: 0.5926 - accuracy: 0.8257 - val_loss: 0.5552 - val_accuracy: 0.8353 - 22s/epoch - 7s/step\n",
      "Epoch 15/25\n",
      "3/3 - 20s - loss: 0.5543 - accuracy: 0.8448 - val_loss: 0.5274 - val_accuracy: 0.8497 - 20s/epoch - 7s/step\n",
      "Epoch 16/25\n",
      "3/3 - 20s - loss: 0.5241 - accuracy: 0.8541 - val_loss: 0.4788 - val_accuracy: 0.8452 - 20s/epoch - 7s/step\n",
      "Epoch 17/25\n",
      "3/3 - 21s - loss: 0.4939 - accuracy: 0.8576 - val_loss: 0.4834 - val_accuracy: 0.8560 - 21s/epoch - 7s/step\n",
      "Epoch 18/25\n",
      "3/3 - 23s - loss: 0.4629 - accuracy: 0.8630 - val_loss: 0.4612 - val_accuracy: 0.8578 - 23s/epoch - 8s/step\n",
      "Epoch 19/25\n",
      "3/3 - 20s - loss: 0.4279 - accuracy: 0.8798 - val_loss: 0.4408 - val_accuracy: 0.8533 - 20s/epoch - 7s/step\n",
      "Epoch 20/25\n",
      "3/3 - 21s - loss: 0.4369 - accuracy: 0.8674 - val_loss: 0.4457 - val_accuracy: 0.8614 - 21s/epoch - 7s/step\n",
      "Epoch 21/25\n",
      "3/3 - 21s - loss: 0.4105 - accuracy: 0.8851 - val_loss: 0.4134 - val_accuracy: 0.8695 - 21s/epoch - 7s/step\n",
      "Epoch 22/25\n",
      "3/3 - 20s - loss: 0.4237 - accuracy: 0.8820 - val_loss: 0.4088 - val_accuracy: 0.8686 - 20s/epoch - 7s/step\n",
      "Epoch 23/25\n",
      "3/3 - 20s - loss: 0.3975 - accuracy: 0.8820 - val_loss: 0.4500 - val_accuracy: 0.8623 - 20s/epoch - 7s/step\n",
      "Epoch 24/25\n",
      "3/3 - 22s - loss: 0.3658 - accuracy: 0.8905 - val_loss: 0.4077 - val_accuracy: 0.8641 - 22s/epoch - 7s/step\n",
      "Epoch 25/25\n",
      "3/3 - 21s - loss: 0.3624 - accuracy: 0.8905 - val_loss: 0.3920 - val_accuracy: 0.8722 - 21s/epoch - 7s/step\n"
     ]
    }
   ],
   "source": [
    "history = model.fit(x_train, y_train,\n",
    "                    validation_data=(x_test, y_test),\n",
    "                    epochs=25,\n",
    "                    batch_size=1024\n",
    "                   )"
   ]
  },
  {
   "cell_type": "code",
   "execution_count": 44,
   "metadata": {},
   "outputs": [
    {
     "name": "stdout",
     "output_type": "stream",
     "text": [
      "3-Fold Cross Validation Results - \n",
      "Mean Accuracy: 0.7823\n",
      "Standard Deviation: 0.0376\n",
      "Individual fold scores: [0.83510637 0.75132978 0.76031959]\n"
     ]
    }
   ],
   "source": [
    "# Print the results \n",
    "print('3-Fold Cross Validation Results - ')\n",
    "print('Mean Accuracy: {:.4f}'.format(np.mean(results)))\n",
    "print('Standard Deviation: {:.4f}'.format(np.std(results)))\n",
    "# Print individual fold scores (optional)\n",
    "print('Individual fold scores:', results)"
   ]
  },
  {
   "cell_type": "code",
   "execution_count": 45,
   "metadata": {},
   "outputs": [
    {
     "data": {
      "image/png": "[encoded data removed]",
      "text/plain": [
       "<Figure size 640x480 with 1 Axes>"
      ]
     },
     "metadata": {},
     "output_type": "display_data"
    },
    {
     "data": {
      "image/png": "[encoded data removed]",
      "text/plain": [
       "<Figure size 640x480 with 1 Axes>"
      ]
     },
     "metadata": {},
     "output_type": "display_data"
    }
   ],
   "source": [
    "# accuracy plot \n",
    "plt.plot(history.history['accuracy'])\n",
    "plt.plot(history.history['val_accuracy'])\n",
    "plt.title('model accuracy')\n",
    "plt.ylabel('accuracy')\n",
    "plt.xlabel('epoch')\n",
    "plt.legend(['train', 'test'], loc='upper left')\n",
    "\n",
    "# Save the confusion matrix image\n",
    "plt.savefig('validation_without_data_augmentation.png')\n",
    "plt.show()\n",
    "\n",
    "# loss plot\n",
    "plt.plot(history.history['loss'])\n",
    "plt.plot(history.history['val_loss'])\n",
    "plt.title('model loss')\n",
    "plt.ylabel('loss')\n",
    "plt.xlabel('epoch')\n",
    "plt.legend(['train', 'test'], loc='upper left')\n",
    "\n",
    "# Save the confusion matrix image\n",
    "plt.savefig('loss_without_data_augmentation.png')\n",
    "plt.show()\n",
    "plt.show()"
   ]
  },
  {
   "cell_type": "code",
   "execution_count": 46,
   "metadata": {},
   "outputs": [
    {
     "name": "stdout",
     "output_type": "stream",
     "text": [
      "2/2 - 2s - loss: 0.3920 - accuracy: 0.8722 - 2s/epoch - 1s/step\n",
      "Testing Accuracy: 0.8721871972084045\n"
     ]
    }
   ],
   "source": [
    "score = model.score(x_test, y_test)\n",
    "#print('Test Loss:', score[0])\n",
    "#print('Test accuracy:', score[1])\n",
    "print('Testing Accuracy:',score)"
   ]
  },
  {
   "cell_type": "code",
   "execution_count": 47,
   "metadata": {},
   "outputs": [
    {
     "name": "stdout",
     "output_type": "stream",
     "text": [
      "35/35 [==============================] - 4s 99ms/step\n",
      "Shape of y_pred: (1111,)\n",
      "Shape of y_test: (1111, 9)\n"
     ]
    }
   ],
   "source": [
    "# Make predictions on test data\n",
    "y_pred = model.predict(x_test)\n",
    "print(\"Shape of y_pred:\", y_pred.shape)\n",
    "print(\"Shape of y_test:\", y_test.shape)"
   ]
  },
  {
   "cell_type": "code",
   "execution_count": 48,
   "metadata": {},
   "outputs": [
    {
     "name": "stdout",
     "output_type": "stream",
     "text": [
      "Classification Report:\n",
      "               precision    recall  f1-score   support\n",
      "\n",
      "           0       0.53      0.92      0.68        26\n",
      "           2       0.64      0.80      0.71        92\n",
      "           3       0.00      0.00      0.00        16\n",
      "           4       0.68      0.65      0.66       106\n",
      "           5       0.18      1.00      0.31         2\n",
      "           6       0.69      0.29      0.41        31\n",
      "           7       0.00      0.00      0.00        25\n",
      "           8       0.96      0.97      0.97       813\n",
      "\n",
      "    accuracy                           0.87      1111\n",
      "   macro avg       0.46      0.58      0.47      1111\n",
      "weighted avg       0.85      0.87      0.86      1111\n",
      "\n"
     ]
    }
   ],
   "source": [
    "from sklearn.metrics import classification_report\n",
    "\n",
    "# Convert one-hot encoded labels back to categorical labels for y_test\n",
    "y_test_classes = np.argmax(y_test, axis=1)\n",
    "\n",
    "# Define your actual class labels\n",
    "faulty_case = ['Center', 'Donut', 'Edge-Loc', 'Edge-Ring', 'Loc', 'Near-full', 'Random', 'Scratch', 'none']\n",
    "\n",
    "# Generate classification report with numerical labels\n",
    "report = classification_report(y_test_classes, y_pred)\n",
    "print(\"Classification Report:\\n\", report)\n"
   ]
  },
  {
   "cell_type": "code",
   "execution_count": 49,
   "metadata": {},
   "outputs": [
    {
     "data": {
      "image/png": "[encoded data removed]",
      "text/plain": [
       "<Figure size 1000x800 with 2 Axes>"
      ]
     },
     "metadata": {},
     "output_type": "display_data"
    }
   ],
   "source": [
    "import numpy as np\n",
    "import matplotlib.pyplot as plt\n",
    "from sklearn.metrics import confusion_matrix\n",
    "\n",
    "# Convert one-hot encoded labels back to categorical labels for y_test\n",
    "y_test_classes = np.argmax(y_test, axis=1)\n",
    "y_pred_classes = y_pred\n",
    "\n",
    "# Get class labels\n",
    "labels = np.unique(np.concatenate((y_test_classes, y_pred_classes)))\n",
    "\n",
    "# Calculate confusion matrix\n",
    "conf_matrix = confusion_matrix(y_test_classes, y_pred_classes, labels=labels)\n",
    "\n",
    "# Plot confusion matrix\n",
    "plt.figure(figsize=(10, 8))\n",
    "plt.imshow(conf_matrix, interpolation='nearest', cmap='Blues')\n",
    "plt.title('Confusion Matrix')\n",
    "plt.colorbar()\n",
    "tick_marks = np.arange(len(labels))\n",
    "plt.xticks(tick_marks, labels)\n",
    "plt.yticks(tick_marks, labels)\n",
    "plt.tight_layout()\n",
    "plt.ylabel('True label')\n",
    "plt.xlabel('Predicted label')\n",
    "\n",
    "# Display values in cells\n",
    "for i in range(len(labels)):\n",
    "    for j in range(len(labels)):\n",
    "        plt.text(j, i, format(conf_matrix[i, j], 'd'), horizontalalignment=\"center\", color=\"black\")\n",
    "\n",
    "# Save the confusion matrix image\n",
    "plt.savefig('confusion_matrix_without_data_augmentation.png')\n",
    "\n",
    "plt.show()\n"
   ]
  },
  {
   "cell_type": "code",
   "execution_count": 50,
   "metadata": {},
   "outputs": [
    {
     "ename": "IndexError",
     "evalue": "index 8 is out of bounds for axis 1 with size 8",
     "output_type": "error",
     "traceback": [
      "\u001b[1;31m---------------------------------------------------------------------------\u001b[0m",
      "\u001b[1;31mIndexError\u001b[0m                                Traceback (most recent call last)",
      "Cell \u001b[1;32mIn[50], line 22\u001b[0m\n\u001b[0;32m     20\u001b[0m \u001b[38;5;28;01mfor\u001b[39;00m i \u001b[38;5;129;01min\u001b[39;00m \u001b[38;5;28mrange\u001b[39m(\u001b[38;5;28mlen\u001b[39m(faulty_case)):\n\u001b[0;32m     21\u001b[0m     \u001b[38;5;28;01mfor\u001b[39;00m j \u001b[38;5;129;01min\u001b[39;00m \u001b[38;5;28mrange\u001b[39m(\u001b[38;5;28mlen\u001b[39m(faulty_case)):\n\u001b[1;32m---> 22\u001b[0m         plt\u001b[38;5;241m.\u001b[39mtext(j, i, \u001b[38;5;28mformat\u001b[39m(\u001b[43mconf_matrix_normalized\u001b[49m\u001b[43m[\u001b[49m\u001b[43mi\u001b[49m\u001b[43m,\u001b[49m\u001b[43m \u001b[49m\u001b[43mj\u001b[49m\u001b[43m]\u001b[49m, \u001b[38;5;124m'\u001b[39m\u001b[38;5;124m.2f\u001b[39m\u001b[38;5;124m'\u001b[39m), horizontalalignment\u001b[38;5;241m=\u001b[39m\u001b[38;5;124m\"\u001b[39m\u001b[38;5;124mcenter\u001b[39m\u001b[38;5;124m\"\u001b[39m, color\u001b[38;5;241m=\u001b[39m\u001b[38;5;124m\"\u001b[39m\u001b[38;5;124mblack\u001b[39m\u001b[38;5;124m\"\u001b[39m)\n\u001b[0;32m     24\u001b[0m \u001b[38;5;66;03m# Save the confusion matrix image\u001b[39;00m\n\u001b[0;32m     25\u001b[0m plt\u001b[38;5;241m.\u001b[39msavefig(\u001b[38;5;124m'\u001b[39m\u001b[38;5;124mnormalized confusion_matrix_without_data_augmentation.png\u001b[39m\u001b[38;5;124m'\u001b[39m)\n",
      "\u001b[1;31mIndexError\u001b[0m: index 8 is out of bounds for axis 1 with size 8"
     ]
    },
    {
     "data": {
      "image/png": "[encoded data removed]",
      "text/plain": [
       "<Figure size 1000x800 with 2 Axes>"
      ]
     },
     "metadata": {},
     "output_type": "display_data"
    }
   ],
   "source": [
    "import matplotlib.pyplot as plt\n",
    "import numpy as np\n",
    "\n",
    "# Normalize confusion matrix\n",
    "conf_matrix_normalized = conf_matrix.astype('float') / conf_matrix.sum(axis=1, keepdims=True)\n",
    "\n",
    "# Plot normalized confusion matrix\n",
    "plt.figure(figsize=(10, 8))\n",
    "plt.imshow(conf_matrix_normalized, cmap='Blues', interpolation='nearest')\n",
    "plt.title('Normalized Confusion Matrix')\n",
    "plt.colorbar()\n",
    "tick_marks = np.arange(len(faulty_case))\n",
    "plt.xticks(tick_marks, faulty_case, rotation=45)\n",
    "plt.yticks(tick_marks, faulty_case)\n",
    "plt.tight_layout()\n",
    "plt.ylabel('True label')\n",
    "plt.xlabel('Predicted label')\n",
    "\n",
    "# Display values in cells\n",
    "for i in range(len(faulty_case)):\n",
    "    for j in range(len(faulty_case)):\n",
    "        plt.text(j, i, format(conf_matrix_normalized[i, j], '.2f'), horizontalalignment=\"center\", color=\"black\")\n",
    "\n",
    "# Save the confusion matrix image\n",
    "plt.savefig('normalized confusion_matrix_without_data_augmentation.png')\n",
    "\n",
    "plt.show()\n"
   ]
  },
  {
   "cell_type": "code",
   "execution_count": null,
   "metadata": {},
   "outputs": [],
   "source": []
  }
 ],
 "metadata": {
  "colab": {
   "provenance": [
    {
     "file_id": "174ZS690ymQs2dfdmoT2ybkFHuSZIk9iI",
     "timestamp": 1710650685297
    },
    {
     "file_id": "1Ptjg0T9ELFIBfzXNuGMvxzM_0gRo1Kmj",
     "timestamp": 1710407136067
    },
    {
     "file_id": "1dptUCe6KDD-k3oxhO26FBQBrXQiVSxk3",
     "timestamp": 1705169162994
    }
   ]
  },
  "kernelspec": {
   "display_name": "Python 3 (ipykernel)",
   "language": "python",
   "name": "python3"
  },
  "language_info": {
   "codemirror_mode": {
    "name": "ipython",
    "version": 3
   },
   "file_extension": ".py",
   "mimetype": "text/x-python",
   "name": "python",
   "nbconvert_exporter": "python",
   "pygments_lexer": "ipython3",
   "version": "3.9.18"
  }
 },
 "nbformat": 4,
 "nbformat_minor": 4
}
